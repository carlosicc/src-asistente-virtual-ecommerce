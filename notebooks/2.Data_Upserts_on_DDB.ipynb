{
 "cells": [
  {
   "cell_type": "markdown",
   "metadata": {},
   "source": [
    "### Test your DynamoDB table"
   ]
  },
  {
   "cell_type": "code",
   "execution_count": null,
   "metadata": {},
   "outputs": [],
   "source": [
    "import boto3\n",
    "import json\n",
    "import time\n",
    "import random \n",
    "import string\n",
    "from decimal import Decimal\n",
    "\n",
    "# Enable after PIP INSTALL faker\n",
    "# from faker import Faker"
   ]
  },
  {
   "cell_type": "code",
   "execution_count": null,
   "metadata": {},
   "outputs": [],
   "source": [
    "class DecimalEncoder(json.JSONEncoder):\n",
    "  def default(self, obj):\n",
    "    if isinstance(obj, Decimal):\n",
    "      return str(obj)\n",
    "    return json.JSONEncoder.default(self, obj)"
   ]
  },
  {
   "cell_type": "markdown",
   "metadata": {},
   "source": [
    "### Get Table name"
   ]
  },
  {
   "cell_type": "code",
   "execution_count": null,
   "metadata": {},
   "outputs": [],
   "source": [
    "# Read Key \"context\" from local cdk.json file:\n",
    "with open('../cdk.json') as f:\n",
    "    data = json.load(f)\n",
    "    ddb_table = data['context']['env-virtual-assistant-dev01']['dynamodb_table_name']"
   ]
  },
  {
   "cell_type": "markdown",
   "metadata": {},
   "source": [
    "### Simple Query test"
   ]
  },
  {
   "cell_type": "code",
   "execution_count": null,
   "metadata": {},
   "outputs": [],
   "source": [
    "print(ddb_table)"
   ]
  },
  {
   "cell_type": "code",
   "execution_count": null,
   "metadata": {},
   "outputs": [],
   "source": [
    "# DynamoDB Get all Items\n",
    "def get_all_items():\n",
    "    dynamodb = boto3.resource('dynamodb')\n",
    "    table = dynamodb.Table(ddb_table)\n",
    "    response = table.scan()\n",
    "    items = response['Items']\n",
    "    return items\n",
    "\n",
    "# Print items\n",
    "items = get_all_items()\n",
    "ddb_data = json.dumps(items, indent=4, cls=DecimalEncoder)\n",
    "print(ddb_data)"
   ]
  },
  {
   "cell_type": "markdown",
   "metadata": {},
   "source": [
    "### Inserting Items one by one"
   ]
  },
  {
   "cell_type": "code",
   "execution_count": null,
   "metadata": {},
   "outputs": [],
   "source": [
    "# Initialize Faker and DynamoDB resource\n",
    "fake = Faker()\n",
    "dynamodb = boto3.resource('dynamodb')\n",
    "\n",
    "# Connect to your DynamoDB table\n",
    "table_name = ddb_table\n",
    "table = dynamodb.Table(table_name)\n",
    "\n",
    "# Function to create a random department store item\n",
    "def create_random_item(_faker):\n",
    "    \"\"\"_summary_\n",
    "\n",
    "    Args:\n",
    "        _faker (_type_): _description_\n",
    "\n",
    "    Returns:\n",
    "        _type_: _description_\n",
    "    \"\"\"\n",
    "    department = _faker.word(ext_word_list=['Electronics', 'Clothing', 'Home', 'Beauty', 'Sports', 'Books'])\n",
    "    product_name = _faker.catch_phrase()\n",
    "    price = Decimal(str(_faker.random_number(digits=2))) + Decimal(str(_faker.random_int(min=5, max=95) / 100))  # Random price between $0.05 and $99.95\n",
    "    \n",
    "    # Date:\n",
    "    date_now = _faker.date_this_year().isoformat()\n",
    "\n",
    "    return {\n",
    "        'pk': f'DEPARTMENT#{department}',           # Partition key\n",
    "        'sk': f'PRODUCT#{date_now}#{_faker.uuid4()}',            # Sort key\n",
    "        'department': department,\n",
    "        'product_name': product_name,\n",
    "        'price': price,\n",
    "        'stock': _faker.random_int(min=1, max=100),   # Random stock quantity\n",
    "        'supplier': _faker.company(),\n",
    "        'rating': Decimal(str(_faker.pyfloat(left_digits=1, right_digits=1, positive=True, max_value=5))),  # Rating between 0.0 and 5.0\n",
    "        'added_on': date_now\n",
    "    }\n",
    "\n",
    "# Insert multiple random items\n",
    "def insert_random_data(ddb_table, num_items):\n",
    "    # Get Table:\n",
    "    table = ddb_table\n",
    "    \n",
    "    for _ in range(num_items):\n",
    "        item = create_random_item()\n",
    "        response = table.put_item(Item=item)\n",
    "        print(f\"Inserted item: {item}\")\n",
    "\n",
    "    return response\n"
   ]
  },
  {
   "cell_type": "code",
   "execution_count": null,
   "metadata": {},
   "outputs": [],
   "source": [
    "# Insert 10 random items\n",
    "insert_random_data(5)"
   ]
  },
  {
   "cell_type": "markdown",
   "metadata": {},
   "source": [
    "### Inserting rows in Batch"
   ]
  },
  {
   "cell_type": "code",
   "execution_count": null,
   "metadata": {},
   "outputs": [],
   "source": [
    "def put_items(ddb_table, items):\n",
    "    \"\"\"_summary_\n",
    "\n",
    "    Args:\n",
    "        ddb_table (_type_): _description_\n",
    "        items (_type_): _description_\n",
    "\n",
    "    Returns:\n",
    "        _type_: _description_\n",
    "    \"\"\"\n",
    "\n",
    "    # Initialize DynamoDB resource\n",
    "    dynamodb = boto3.resource('dynamodb')\n",
    "\n",
    "    # Table init\n",
    "    table = dynamodb.Table(ddb_table)\n",
    "    \n",
    "    # List to store Partition Key values\n",
    "    pk_values = []\n",
    "\n",
    "    # Get current time in unix timestamp\n",
    "    current_time = int(time.time())\n",
    "    \n",
    "    with table.batch_writer() as batch:\n",
    "        for item in items:\n",
    "            try:\n",
    "                # Append key and value to item\n",
    "                item['sk'] = str(current_time)\n",
    "\n",
    "                # Upsert all in batch\n",
    "                batch.put_item(Item=item)\n",
    "\n",
    "                # Append inserted Partition Key for monitoring\n",
    "                pk_values.append(item['pk'])\n",
    "                \n",
    "            except Exception as e:\n",
    "                print(f\"Error inserting item: {item}. Error: {e}\")\n",
    "\n",
    "    return pk_values"
   ]
  },
  {
   "cell_type": "code",
   "execution_count": null,
   "metadata": {},
   "outputs": [],
   "source": [
    "# Example usage\n",
    "items = [\n",
    "    {'pk': '001', 'name': 'John Doe', 'email': 'john.doe@example.com'},\n",
    "    {'pk': '002', 'name': 'Jane Smith', 'email': 'jane.smith@example.com'},\n",
    "    {'pk': '003', 'name': 'Bob Johnson', 'email': 'bob.johnson@example.com'},\n",
    "]\n",
    "\n",
    "inserted_pk_values = put_items(ddb_table, items)\n",
    "print(inserted_pk_values)"
   ]
  },
  {
   "cell_type": "code",
   "execution_count": null,
   "metadata": {},
   "outputs": [],
   "source": []
  },
  {
   "cell_type": "markdown",
   "metadata": {},
   "source": [
    "### Avoiding generic items, to be specific on which KEYS to accept"
   ]
  },
  {
   "cell_type": "code",
   "execution_count": null,
   "metadata": {},
   "outputs": [],
   "source": [
    "def put_items(ddb_table, product_id, product_name, price_gbp, quantity):\n",
    "    \"\"\"_summary_\n",
    "\n",
    "    Args:\n",
    "        ddb_table (_type_): _description_\n",
    "        product_id (_type_): _description_\n",
    "        product_name (_type_): _description_\n",
    "        price_gbp (_type_): _description_\n",
    "        quantity (_type_): _description_\n",
    "\n",
    "    Returns:\n",
    "        _type_: _description_\n",
    "    \"\"\"\n",
    "\n",
    "    # Initialize DynamoDB resource\n",
    "    dynamodb = boto3.resource('dynamodb')\n",
    "\n",
    "    # Table init\n",
    "    table = dynamodb.Table(ddb_table)\n",
    "    \n",
    "    # Print for terminal\n",
    "    print(f\"Inserting product ID: {product_id}\")\n",
    "\n",
    "    # Get current time in unix timestamp. \n",
    "    # - Primary Key in DDB is Partition Key (pk) and Sort Key (sk). This is our Order ID.\n",
    "    current_time = int(time.time())\n",
    "\n",
    "    # Generate a fake session id\n",
    "    session_id = ''.join(random.choices(string.ascii_letters + string.digits, k=8))\n",
    "    \n",
    "    # Append key and value to item\n",
    "    item = {}\n",
    "    item['pk'] = f'product_id#{product_id}#session_id#{session_id}'\n",
    "    item['sk'] = str(current_time)\n",
    "    item['product_id'] = product_id\n",
    "    item['product_name'] = product_name\n",
    "    item['price_gbp'] = price_gbp\n",
    "    item['quantity'] = quantity\n",
    "\n",
    "    # Cast Float to Decimals, for DDB support.\n",
    "    ddb_data = json.loads(json.dumps(item), parse_float=Decimal)\n",
    "\n",
    "    # Logging and metrics\n",
    "    # logger.info(f\"Storing product sale with details (DDB Item to insert): {item}\")\n",
    "\n",
    "    try:\n",
    "        # Insert item in DynamoDB table\n",
    "        response = table.put_item(Item=ddb_data)\n",
    "        print(response)\n",
    "\n",
    "        return {\n",
    "            'statusCode': 200,\n",
    "            'body': f'Sale recorded for product ID {product_id}'\n",
    "        }\n",
    "    \n",
    "    except Exception as e:\n",
    "        return {\n",
    "            'statusCode': 500,\n",
    "            'body': f'Error inserting item: {e}'\n",
    "        }\n"
   ]
  },
  {
   "cell_type": "code",
   "execution_count": null,
   "metadata": {},
   "outputs": [],
   "source": [
    "# Test put_items function\n",
    "response = put_items(ddb_table=ddb_table, product_id=\"p123\",product_name=\"product test train\",price_gbp=100.1,quantity=1)\n",
    "print(response)"
   ]
  }
 ],
 "metadata": {
  "kernelspec": {
   "display_name": ".venv",
   "language": "python",
   "name": "python3"
  },
  "language_info": {
   "codemirror_mode": {
    "name": "ipython",
    "version": 3
   },
   "file_extension": ".py",
   "mimetype": "text/x-python",
   "name": "python",
   "nbconvert_exporter": "python",
   "pygments_lexer": "ipython3",
   "version": "3.12.5"
  }
 },
 "nbformat": 4,
 "nbformat_minor": 2
}
