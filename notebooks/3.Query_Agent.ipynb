{
 "cells": [
  {
   "cell_type": "markdown",
   "metadata": {},
   "source": [
    "### How to query the Bedrock agent example"
   ]
  },
  {
   "cell_type": "code",
   "execution_count": 11,
   "metadata": {},
   "outputs": [],
   "source": [
    "import uuid\n",
    "import json\n",
    "import streamlit as st\n",
    "from botocore.config import Config\n",
    "from boto3.session import Session"
   ]
  },
  {
   "cell_type": "code",
   "execution_count": 4,
   "metadata": {},
   "outputs": [],
   "source": [
    "# SDK init\n",
    "boto_session = Session().client(\"bedrock-agent-runtime\", config=Config(read_timeout=600))"
   ]
  },
  {
   "cell_type": "code",
   "execution_count": null,
   "metadata": {},
   "outputs": [],
   "source": [
    "def invoke_agent(agent_id, agent_alias_id, input_text, trace):\n",
    "    \"\"\"_summary_\n",
    "\n",
    "    Args:\n",
    "        agent_id (_type_): _description_\n",
    "        agent_alias_id (_type_): _description_\n",
    "        input_text (_type_): _description_\n",
    "        trace (_type_): _description_\n",
    "\n",
    "    Raises:\n",
    "        Exception: _description_\n",
    "\n",
    "    Returns:\n",
    "        _type_: _description_\n",
    "    \"\"\"\n",
    "\n",
    "    # Var init\n",
    "    response_text = \"\"\n",
    "    trace_text = \"\"\n",
    "    step = 0\n",
    "\n",
    "    response = boto_session.invoke_agent(\n",
    "        inputText=input_text,\n",
    "        agentId=agent_id,\n",
    "        agentAliasId=agent_alias_id,\n",
    "        sessionId=str(uuid.uuid1()),\n",
    "        enableTrace=True,\n",
    "    )\n",
    "\n",
    "    try:\n",
    "        for event in response[\"completion\"]:\n",
    "            if \"chunk\" in event:\n",
    "\n",
    "                data = event[\"chunk\"][\"bytes\"]\n",
    "                response_text = data.decode(\"utf8\")\n",
    "\n",
    "            elif \"trace\" in event:\n",
    "\n",
    "                trace_obj = event[\"trace\"][\"trace\"]\n",
    "\n",
    "                if \"orchestrationTrace\" in trace_obj:\n",
    "\n",
    "                    trace_dump = json.dumps(\n",
    "                        trace_obj[\"orchestrationTrace\"], indent=2\n",
    "                    )\n",
    "\n",
    "                    if \"rationale\" in trace_obj[\"orchestrationTrace\"]:\n",
    "\n",
    "                        step += 1\n",
    "                        trace_text += f'\\n\\n\\n---------- Step {step} ----------\\n\\n\\n{trace_obj[\"orchestrationTrace\"][\"rationale\"][\"text\"]}\\n\\n\\n'\n",
    "                        # trace.markdown(f'\\n\\n\\n---------- Step {step} ----------\\n\\n\\n{trace_obj[\"orchestrationTrace\"][\"rationale\"][\"text\"]}\\n\\n\\n')\n",
    "\n",
    "                    elif (\n",
    "                        \"modelInvocationInput\"\n",
    "                        not in trace_obj[\"orchestrationTrace\"]\n",
    "                    ):\n",
    "\n",
    "                        trace_text += \"\\n\\n\\n\" + trace_dump + \"\\n\\n\\n\"\n",
    "                        # trace.markdown(\"\\n\\n\\n\" + trace_dump + \"\\n\\n\\n\")\n",
    "\n",
    "                elif \"failureTrace\" in trace_obj:\n",
    "\n",
    "                    trace_text += \"\\n\\n\\n\" + trace_dump + \"\\n\\n\\n\"\n",
    "                    # trace.markdown(\"\\n\\n\\n\" + trace_dump + \"\\n\\n\\n\")\n",
    "\n",
    "                elif \"postProcessingTrace\" in trace_obj:\n",
    "\n",
    "                    step += 1\n",
    "                    trace_text += f\"\\n\\n\\n---------- Step {step} ----------\\n\\n\\n{json.dumps(trace_obj['postProcessingTrace']['modelInvocationOutput']['parsedResponse']['text'], indent=2)}\\n\\n\\n\"\n",
    "                    # trace.markdown(f\"\\n\\n\\n---------- Step {step} ----------\\n\\n\\n{json.dumps(trace_obj['postProcessingTrace']['modelInvocationOutput']['parsedResponse']['text'], indent=2)}\\n\\n\\n\")\n",
    "\n",
    "    except Exception as e:\n",
    "        trace_text += str(e)\n",
    "        # trace.markdown(str(e))\n",
    "        raise Exception(\"unexpected event.\", e)\n",
    "\n",
    "    return response_text, trace_text"
   ]
  },
  {
   "cell_type": "code",
   "execution_count": 16,
   "metadata": {},
   "outputs": [
    {
     "name": "stdout",
     "output_type": "stream",
     "text": [
      "Hello! Welcome to our department store. I'm the virtual assistant here to help you with any questions you might have about our products or to assist you with making a purchase. How can I help you today?\n"
     ]
    }
   ],
   "source": [
    "prompt = \"Hello\"\n",
    "response_text, trace_text = invoke_agent(agent_id=\"YQNH56DV9T\", agent_alias_id=\"7MUST2FRIK\", input_text=prompt, trace=None)\n",
    "print(response_text)"
   ]
  },
  {
   "cell_type": "code",
   "execution_count": null,
   "metadata": {},
   "outputs": [],
   "source": []
  }
 ],
 "metadata": {
  "kernelspec": {
   "display_name": ".venv",
   "language": "python",
   "name": "python3"
  },
  "language_info": {
   "codemirror_mode": {
    "name": "ipython",
    "version": 3
   },
   "file_extension": ".py",
   "mimetype": "text/x-python",
   "name": "python",
   "nbconvert_exporter": "python",
   "pygments_lexer": "ipython3",
   "version": "3.12.5"
  }
 },
 "nbformat": 4,
 "nbformat_minor": 2
}
