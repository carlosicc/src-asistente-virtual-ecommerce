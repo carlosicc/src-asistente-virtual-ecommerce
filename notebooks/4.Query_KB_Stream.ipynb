{
 "cells": [
  {
   "cell_type": "code",
   "execution_count": 6,
   "metadata": {},
   "outputs": [],
   "source": [
    "import boto3 \n",
    "bedrock = boto3.client(service_name='bedrock')\n",
    "\n",
    "response = bedrock.get_foundation_model(modelIdentifier='anthropic.claude-3-5-sonnet-20241022-v2:0')"
   ]
  },
  {
   "cell_type": "code",
   "execution_count": 4,
   "metadata": {},
   "outputs": [
    {
     "name": "stdout",
     "output_type": "stream",
     "text": [
      "arn:aws:bedrock:us-west-2::foundation-model/anthropic.claude-3-5-sonnet-20241022-v2:0\n"
     ]
    }
   ],
   "source": [
    "print(response['modelDetails']['modelArn'])"
   ]
  },
  {
   "cell_type": "code",
   "execution_count": null,
   "metadata": {},
   "outputs": [],
   "source": [
    "# Create a Bedrock agent runtime client. Potentially to use a different for KB:\n",
    "aws_region = 'us-west-2'\n",
    "bedrock_kb_client = boto3.client('bedrock-agent-runtime', region_name=aws_region)\n",
    "bedrock_client = boto3.client(service_name='bedrock', region_name=aws_region)"
   ]
  },
  {
   "cell_type": "code",
   "execution_count": 8,
   "metadata": {},
   "outputs": [],
   "source": [
    "# Get Model ARN from Model ID\n",
    "model_id = \"anthropic.claude-3-5-sonnet-20241022-v2:0\"\n",
    "response = bedrock_client.get_foundation_model(modelIdentifier=model_id)\n",
    "model_arn = response['modelDetails']['modelArn']"
   ]
  },
  {
   "cell_type": "code",
   "execution_count": 40,
   "metadata": {},
   "outputs": [],
   "source": [
    "user_query = \"Tienes drones?\"\n",
    "temperature = 0.5\n",
    "top_p = 0.5\n",
    "knowledge_base_id = \"1Y2HQZHIIY\"\n",
    "max_results = 3"
   ]
  },
  {
   "cell_type": "code",
   "execution_count": 41,
   "metadata": {},
   "outputs": [],
   "source": [
    "# Query KB\n",
    "response = bedrock_kb_client.retrieve_and_generate_stream(\n",
    "    input={\n",
    "        'text': user_query\n",
    "    },\n",
    "    retrieveAndGenerateConfiguration={\n",
    "        'knowledgeBaseConfiguration': {\n",
    "            'generationConfiguration': {\n",
    "                'inferenceConfig': {\n",
    "                    'textInferenceConfig': {\n",
    "                        'maxTokens': 8192,\n",
    "                        'temperature': temperature,\n",
    "                        'topP': top_p\n",
    "                    }\n",
    "                },\n",
    "            },\n",
    "            'knowledgeBaseId': knowledge_base_id,\n",
    "            'modelArn': model_arn,\n",
    "            'retrievalConfiguration': {\n",
    "                'vectorSearchConfiguration': {\n",
    "                    'numberOfResults': max_results,\n",
    "                    'overrideSearchType': 'HYBRID', # Or SEMANTIC\n",
    "                }\n",
    "            }\n",
    "        },\n",
    "        'type': 'KNOWLEDGE_BASE'\n",
    "    }\n",
    ")"
   ]
  },
  {
   "cell_type": "code",
   "execution_count": 47,
   "metadata": {},
   "outputs": [
    {
     "name": "stdout",
     "output_type": "stream",
     "text": [
      "\n",
      "I could not find any customer reviews specifically for the Syma X11 in the search results. While there is a mention of Syma X11 parts, there are no actual reviews of the drone itself.\n",
      "\n",
      "{'ResponseMetadata': {'RequestId': '04a1ef20-3a8e-406e-9837-5730e26c31c5', 'HTTPStatusCode': 200, 'HTTPHeaders': {'date': 'Tue, 10 Dec 2024 18:59:25 GMT', 'content-type': 'application/vnd.amazon.eventstream', 'transfer-encoding': 'chunked', 'connection': 'keep-alive', 'x-amzn-requestid': '04a1ef20-3a8e-406e-9837-5730e26c31c5', 'x-amzn-bedrock-knowledge-base-session-id': '1af8bd3d-a7b9-4362-bc35-369a1b74239f'}, 'RetryAttempts': 0}, 'sessionId': '1af8bd3d-a7b9-4362-bc35-369a1b74239f', 'stream': <botocore.eventstream.EventStream object at 0x10d3b1040>}\n"
     ]
    }
   ],
   "source": [
    "# Looping through the response from the converse_stream api call\n",
    "stream = response.get('stream')\n",
    "streaming_text = \"\"\n",
    "for event in stream:\n",
    "    if 'output' in event:\n",
    "        # Add the streaming chunks to our place holder\n",
    "        streaming_text += event['output']['text']\n",
    "print(streaming_text)\n",
    "print(response)"
   ]
  },
  {
   "cell_type": "code",
   "execution_count": 43,
   "metadata": {},
   "outputs": [
    {
     "data": {
      "text/plain": [
       "{'ResponseMetadata': {'RequestId': '987f3a47-cde4-455d-957f-e4830494a047',\n",
       "  'HTTPStatusCode': 200,\n",
       "  'HTTPHeaders': {'date': 'Tue, 10 Dec 2024 18:57:29 GMT',\n",
       "   'content-type': 'application/vnd.amazon.eventstream',\n",
       "   'transfer-encoding': 'chunked',\n",
       "   'connection': 'keep-alive',\n",
       "   'x-amzn-requestid': '987f3a47-cde4-455d-957f-e4830494a047',\n",
       "   'x-amzn-bedrock-knowledge-base-session-id': '1af8bd3d-a7b9-4362-bc35-369a1b74239f'},\n",
       "  'RetryAttempts': 0},\n",
       " 'sessionId': '1af8bd3d-a7b9-4362-bc35-369a1b74239f',\n",
       " 'stream': <botocore.eventstream.EventStream at 0x10d43da90>}"
      ]
     },
     "execution_count": 43,
     "metadata": {},
     "output_type": "execute_result"
    }
   ],
   "source": [
    "response"
   ]
  },
  {
   "cell_type": "code",
   "execution_count": 44,
   "metadata": {},
   "outputs": [],
   "source": [
    "new_user_query = \"De esa lista que me das, ¿qué reviews tiene el primer producto?\""
   ]
  },
  {
   "cell_type": "code",
   "execution_count": 46,
   "metadata": {},
   "outputs": [],
   "source": [
    "# Query KB\n",
    "response = bedrock_kb_client.retrieve_and_generate_stream(\n",
    "    input={\n",
    "        'text': new_user_query\n",
    "    },\n",
    "    retrieveAndGenerateConfiguration={\n",
    "        'knowledgeBaseConfiguration': {\n",
    "            'generationConfiguration': {\n",
    "                'inferenceConfig': {\n",
    "                    'textInferenceConfig': {\n",
    "                        'maxTokens': 8192,\n",
    "                        'temperature': temperature,\n",
    "                        'topP': top_p\n",
    "                    }\n",
    "                },\n",
    "            },\n",
    "            'knowledgeBaseId': knowledge_base_id,\n",
    "            'modelArn': model_arn,\n",
    "            'retrievalConfiguration': {\n",
    "                'vectorSearchConfiguration': {\n",
    "                    'numberOfResults': max_results,\n",
    "                    'overrideSearchType': 'HYBRID', # Or SEMANTIC\n",
    "                }\n",
    "            }\n",
    "        },\n",
    "        'type': 'KNOWLEDGE_BASE'\n",
    "    },\n",
    "    sessionId=response['sessionId']\n",
    ")"
   ]
  },
  {
   "cell_type": "code",
   "execution_count": null,
   "metadata": {},
   "outputs": [],
   "source": []
  }
 ],
 "metadata": {
  "kernelspec": {
   "display_name": ".venv",
   "language": "python",
   "name": "python3"
  },
  "language_info": {
   "codemirror_mode": {
    "name": "ipython",
    "version": 3
   },
   "file_extension": ".py",
   "mimetype": "text/x-python",
   "name": "python",
   "nbconvert_exporter": "python",
   "pygments_lexer": "ipython3",
   "version": "3.12.5"
  }
 },
 "nbformat": 4,
 "nbformat_minor": 2
}
